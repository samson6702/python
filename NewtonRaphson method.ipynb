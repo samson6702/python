{
 "cells": [
  {
   "cell_type": "code",
   "execution_count": 1,
   "id": "ced8799c",
   "metadata": {},
   "outputs": [],
   "source": [
    "import matplotlib.pyplot  as plt\n",
    "import numpy as np"
   ]
  },
  {
   "cell_type": "code",
   "execution_count": 2,
   "id": "1e6c839b",
   "metadata": {},
   "outputs": [
    {
     "name": "stdout",
     "output_type": "stream",
     "text": [
      "Enter Guess: 2\n",
      "Tolerable Error: 0.0001\n",
      "Maximum Step: 40\n",
      "\n",
      "\n",
      "*** NEWTON RAPHSON METHOD IMPLEMENTATION ***\n",
      "Iteration-1, x1 = 2.571429 and f(x1) = -0.221574\n",
      "Iteration-2, x1 = 2.586363 and f(x1) = -0.077660\n",
      "Iteration-3, x1 = 2.591517 and f(x1) = -0.027397\n",
      "Iteration-4, x1 = 2.593325 and f(x1) = -0.009687\n",
      "Iteration-5, x1 = 2.593964 and f(x1) = -0.003427\n",
      "Iteration-6, x1 = 2.594189 and f(x1) = -0.001213\n",
      "Iteration-7, x1 = 2.594269 and f(x1) = -0.000429\n",
      "Iteration-8, x1 = 2.594298 and f(x1) = -0.000152\n",
      "Iteration-9, x1 = 2.594308 and f(x1) = -0.000054\n",
      "\n",
      "Required root is: 2.59430754\n"
     ]
    },
    {
     "ename": "NameError",
     "evalue": "name 'x1' is not defined",
     "output_type": "error",
     "traceback": [
      "\u001b[1;31m---------------------------------------------------------------------------\u001b[0m",
      "\u001b[1;31mNameError\u001b[0m                                 Traceback (most recent call last)",
      "Input \u001b[1;32mIn [2]\u001b[0m, in \u001b[0;36m<cell line: 64>\u001b[1;34m()\u001b[0m\n\u001b[0;32m     61\u001b[0m y \u001b[38;5;241m=\u001b[39mf(m)\n\u001b[0;32m     63\u001b[0m plt\u001b[38;5;241m.\u001b[39mplot(m,y)\n\u001b[1;32m---> 64\u001b[0m plt\u001b[38;5;241m.\u001b[39mplot(\u001b[43mx1\u001b[49m,\u001b[38;5;241m0\u001b[39m,marker \u001b[38;5;241m=\u001b[39m\u001b[38;5;124m'\u001b[39m\u001b[38;5;124mo\u001b[39m\u001b[38;5;124m'\u001b[39m,color \u001b[38;5;241m=\u001b[39m\u001b[38;5;124m'\u001b[39m\u001b[38;5;124mred\u001b[39m\u001b[38;5;124m'\u001b[39m)\n",
      "\u001b[1;31mNameError\u001b[0m: name 'x1' is not defined"
     ]
    },
    {
     "data": {
      "image/png": "[encoded data removed]",
      "text/plain": [
       "<Figure size 640x480 with 1 Axes>"
      ]
     },
     "metadata": {},
     "output_type": "display_data"
    }
   ],
   "source": [
    "\n",
    "# Defining Function\n",
    "def f(x):\n",
    "    return x**3- 2*x**2 -4\n",
    "\n",
    "# Defining derivative of function\n",
    "def g(x):\n",
    "    return 3*x**2 - 5\n",
    "\n",
    "# Implementing Newton Raphson Method\n",
    "\n",
    "def newtonRaphson(x0,e,N):\n",
    "    print('\\n\\n*** NEWTON RAPHSON METHOD IMPLEMENTATION ***')\n",
    "    step = 1\n",
    "    flag = 1\n",
    "    condition = True\n",
    "    while condition:\n",
    "        if g(x0) == 0.0:\n",
    "            print('Divide by zero error!')\n",
    "            break\n",
    "        \n",
    "        x1 = x0 - f(x0)/g(x0)\n",
    "        print('Iteration-%d, x1 = %0.6f and f(x1) = %0.6f' % (step, x1, f(x1)))\n",
    "        x0 = x1\n",
    "        step = step + 1\n",
    "        \n",
    "        if step > N:\n",
    "            flag = 0\n",
    "            break\n",
    "        \n",
    "        condition = abs(f(x1)) > e\n",
    "    \n",
    "    if flag==1:\n",
    "        K =('\\nRequired root is: %0.8f' % x1)\n",
    "        print(K)\n",
    "    else:\n",
    "        print('\\nNot Convergent.')\n",
    "\n",
    "\n",
    "# Input Section\n",
    "x0 = input('Enter Guess: ')\n",
    "e = input('Tolerable Error: ')\n",
    "N = input('Maximum Step: ')\n",
    "\n",
    "# Converting x0 and e to float\n",
    "x0 = float(x0)\n",
    "e = float(e)\n",
    "\n",
    "# Converting N to integer\n",
    "N = int(N)\n",
    "\n",
    "\n",
    "#Note: You can combine above three section like this\n",
    "# x0 = float(input('Enter Guess: '))\n",
    "# e = float(input('Tolerable Error: '))\n",
    "# N = int(input('Maximum Step: '))\n",
    "\n",
    "# Starting Newton Raphson Method\n",
    "newtonRaphson(x0,e,N)\n",
    "\n",
    "m= np.linspace(-3 ,3, 4)\n",
    "y =f(m)\n",
    "\n",
    "plt.plot(m,y)\n",
    "plt.plot(x1,0,marker ='o',color ='red')"
   ]
  },
  {
   "cell_type": "code",
   "execution_count": null,
   "id": "bae5cb3c",
   "metadata": {},
   "outputs": [],
   "source": []
  },
  {
   "cell_type": "code",
   "execution_count": null,
   "id": "933a9a28",
   "metadata": {},
   "outputs": [],
   "source": []
  }
 ],
 "metadata": {
  "kernelspec": {
   "display_name": "Python 3 (ipykernel)",
   "language": "python",
   "name": "python3"
  },
  "language_info": {
   "codemirror_mode": {
    "name": "ipython",
    "version": 3
   },
   "file_extension": ".py",
   "mimetype": "text/x-python",
   "name": "python",
   "nbconvert_exporter": "python",
   "pygments_lexer": "ipython3",
   "version": "3.9.12"
  }
 },
 "nbformat": 4,
 "nbformat_minor": 5
}
